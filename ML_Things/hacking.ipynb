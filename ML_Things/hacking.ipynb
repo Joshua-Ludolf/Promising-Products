{
 "cells": [
  {
   "cell_type": "code",
   "execution_count": 3,
   "metadata": {
    "id": "rB97HEiAVTGP"
   },
   "outputs": [],
   "source": [
    "import pandas as pd\n",
    "import requests\n",
    "from zipfile import ZipFile\n",
    "from io import BytesIO\n",
    "from sklearn.preprocessing import StandardScaler, OneHotEncoder\n",
    "import scipy.sparse"
   ]
  },
  {
   "cell_type": "code",
   "execution_count": 4,
   "metadata": {
    "colab": {
     "base_uri": "https://localhost:8080/"
    },
    "id": "5JcL-lVPAulw",
    "outputId": "0e0053e0-66e7-41f1-886a-e1e3dcf3c5a4"
   },
   "outputs": [
    {
     "name": "stderr",
     "output_type": "stream",
     "text": [
      "C:\\Users\\Joshu\\AppData\\Local\\Temp\\ipykernel_2644\\495329559.py:6: DtypeWarning: Columns (19) have mixed types. Specify dtype option on import or set low_memory=False.\n",
      "  df = pd.read_csv(z.open(file_name))\n"
     ]
    }
   ],
   "source": [
    "# Step 1: Load the Dataset Efficiently\n",
    "url = \"https://raw.githubusercontent.com/ftr-fybrlabs/HackUTD2024/main/data/current_customers.csv.zip\"\n",
    "r = requests.get(url)\n",
    "z = ZipFile(BytesIO(r.content))\n",
    "file_name = z.namelist()[0]\n",
    "df = pd.read_csv(z.open(file_name))"
   ]
  },
  {
   "cell_type": "code",
   "execution_count": 5,
   "metadata": {
    "colab": {
     "base_uri": "https://localhost:8080/"
    },
    "id": "z8bcP5rKFok-",
    "outputId": "11d6d5df-c8f2-48c4-9a01-c2d3305ea402"
   },
   "outputs": [
    {
     "name": "stdout",
     "output_type": "stream",
     "text": [
      "                                             acct_id  extenders  \\\n",
      "0  00000950dea4a869e9fe70d823444d418c5abebbd8e830...          0   \n",
      "1  00002ec815678c6b9837ad4c9db82ac7fe5fb6af5dc229...          1   \n",
      "2  000050825287b713415614a237757da4cd7517365cbce2...          1   \n",
      "3  000060be4aa292815abc44ab6fe96015b89e83b21c8a63...          0   \n",
      "4  00008c39885815e42a0bb750cee199cd4da741a5645705...          1   \n",
      "\n",
      "   wireless_clients_count  wired_clients_count    rx_avg_bps    tx_avg_bps  \\\n",
      "0                       3                    2  1.849822e+06  2.229501e+06   \n",
      "1                      13                    6  5.316781e+05  3.170011e+05   \n",
      "2                       9                    3  2.657035e+05  9.632467e+03   \n",
      "3                       3                    3  1.077448e+06  4.149613e+05   \n",
      "4                      19                    7  6.083613e+05  4.780259e+05   \n",
      "\n",
      "     rx_p95_bps    tx_p95_bps    rx_max_bps    tx_max_bps  ...        city  \\\n",
      "0  2.652856e+06  2.243758e+06  6.606018e+06  2.390025e+06  ...        ROMA   \n",
      "1  1.159275e+06  3.309592e+05  1.947402e+06  3.774517e+05  ...  CARROLLTON   \n",
      "2  1.250417e+06  3.180222e+04  1.880263e+06  6.833266e+04  ...        AZLE   \n",
      "3  1.576695e+06  4.234751e+05  1.684422e+06  4.245802e+05  ...  VALPARAISO   \n",
      "4  1.349913e+06  6.553424e+05  2.472542e+06  1.111929e+06  ...   STRATFORD   \n",
      "\n",
      "   state  whole_home_wifi  wifi_security wifi_security_plus premium_tech_pro  \\\n",
      "0     TX              NaN            NaN                NaN              NaN   \n",
      "1     TX              NaN            NaN                NaN              NaN   \n",
      "2     TX             True           True                NaN              NaN   \n",
      "3     IN              NaN            NaN                NaN              NaN   \n",
      "4     CT              NaN            NaN                NaN              NaN   \n",
      "\n",
      "  identity_protection family_identity_protection total_shield youtube_tv  \n",
      "0                 NaN                        NaN          NaN        NaN  \n",
      "1                 NaN                        NaN          NaN        NaN  \n",
      "2                 NaN                        NaN          NaN        NaN  \n",
      "3                 NaN                        NaN          NaN        NaN  \n",
      "4                 NaN                        NaN          NaN        NaN  \n",
      "\n",
      "[5 rows x 25 columns]\n",
      "(789689, 25)\n",
      "acct_id                        object\n",
      "extenders                       int64\n",
      "wireless_clients_count          int64\n",
      "wired_clients_count             int64\n",
      "rx_avg_bps                    float64\n",
      "tx_avg_bps                    float64\n",
      "rx_p95_bps                    float64\n",
      "tx_p95_bps                    float64\n",
      "rx_max_bps                    float64\n",
      "tx_max_bps                    float64\n",
      "rssi_mean                     float64\n",
      "rssi_median                     int64\n",
      "rssi_max                        int64\n",
      "rssi_min                        int64\n",
      "network_speed                  object\n",
      "city                           object\n",
      "state                          object\n",
      "whole_home_wifi                object\n",
      "wifi_security                  object\n",
      "wifi_security_plus             object\n",
      "premium_tech_pro               object\n",
      "identity_protection            object\n",
      "family_identity_protection     object\n",
      "total_shield                   object\n",
      "youtube_tv                     object\n",
      "dtype: object\n",
      "acct_id                            0\n",
      "extenders                          0\n",
      "wireless_clients_count             0\n",
      "wired_clients_count                0\n",
      "rx_avg_bps                         0\n",
      "tx_avg_bps                         0\n",
      "rx_p95_bps                         0\n",
      "tx_p95_bps                         0\n",
      "rx_max_bps                         0\n",
      "tx_max_bps                         0\n",
      "rssi_mean                          0\n",
      "rssi_median                        0\n",
      "rssi_max                           0\n",
      "rssi_min                           0\n",
      "network_speed                      0\n",
      "city                              72\n",
      "state                             72\n",
      "whole_home_wifi               642247\n",
      "wifi_security                 625257\n",
      "wifi_security_plus            789686\n",
      "premium_tech_pro              789060\n",
      "identity_protection           784794\n",
      "family_identity_protection    789440\n",
      "total_shield                  784104\n",
      "youtube_tv                    785512\n",
      "dtype: int64\n"
     ]
    }
   ],
   "source": [
    "# Step 2: Inspect and Drop Unnecessary Columns Early\n",
    "print(df.head())\n",
    "\n",
    "# Check the shape of the DataFrame\n",
    "print(df.shape)\n",
    "\n",
    "# Check data types of each column\n",
    "print(df.dtypes)\n",
    "\n",
    "# Check for missing values\n",
    "print(df.isnull().sum())"
   ]
  },
  {
   "cell_type": "code",
   "execution_count": 6,
   "metadata": {
    "id": "NiKEHxEPHU6E"
   },
   "outputs": [],
   "source": [
    "# Step 3: Drop rows with missing values in the numerical columns early\n",
    "numerical_cols = ['wireless_clients_count', 'wired_clients_count', 'rx_avg_bps', 'tx_avg_bps', 'rx_p95_bps', 'tx_p95_bps', 'rx_max_bps', 'tx_max_bps', 'rssi_mean', 'rssi_median', 'rssi_max', 'rssi_min']\n",
    "df.dropna(subset=numerical_cols, inplace=True)\n"
   ]
  },
  {
   "cell_type": "code",
   "execution_count": 7,
   "metadata": {
    "id": "e_YI2qfNe3gS"
   },
   "outputs": [],
   "source": [
    "# Step 4: Convert Data Types for Efficiency\n",
    "df[numerical_cols] = df[numerical_cols].astype(float)\n",
    "categorical_cols = ['network_speed', 'city', 'state', 'whole_home_wifi', 'wifi_security', 'wifi_security_plus', 'premium_tech_pro', 'identity_protection', 'family_identity_protection', 'total_shield', 'youtube_tv']\n",
    "df[categorical_cols] = df[categorical_cols].astype(str)"
   ]
  },
  {
   "cell_type": "code",
   "execution_count": 9,
   "metadata": {
    "id": "6gfPxmu7VmoE"
   },
   "outputs": [],
   "source": [
    "# Step 5: Normalizing the Numerical Data\n",
    "scaler = StandardScaler()\n",
    "df[numerical_cols] = scaler.fit_transform(df[numerical_cols])"
   ]
  },
  {
   "cell_type": "code",
   "execution_count": 10,
   "metadata": {
    "id": "mJjEOiHqe-KU"
   },
   "outputs": [],
   "source": [
    "#Step 6: Encoding the Categorical Data\n",
    "encoder = OneHotEncoder(sparse_output=True, handle_unknown='ignore')\n",
    "encoded_sparse = encoder.fit_transform(df[categorical_cols])"
   ]
  },
  {
   "cell_type": "code",
   "execution_count": 11,
   "metadata": {
    "id": "7-wzOJEvj1K8"
   },
   "outputs": [],
   "source": [
    "# Step 7: Combine the Encoded Data with the Original DataFrame\n",
    "encoded_df = pd.DataFrame.sparse.from_spmatrix(encoded_sparse, columns=encoder.get_feature_names_out(categorical_cols))\n",
    "df = pd.concat([df, encoded_df], axis=1)"
   ]
  },
  {
   "cell_type": "code",
   "execution_count": 12,
   "metadata": {
    "colab": {
     "base_uri": "https://localhost:8080/"
    },
    "id": "QGyAH4gYVsIh",
    "outputId": "29bbb3d7-7a37-41f2-eb12-34cce56900c3",
    "scrolled": true
   },
   "outputs": [
    {
     "name": "stdout",
     "output_type": "stream",
     "text": [
      "<class 'pandas.core.frame.DataFrame'>\n",
      "RangeIndex: 789689 entries, 0 to 789688\n",
      "Columns: 1447 entries, acct_id to youtube_tv_nan\n",
      "dtypes: Sparse[float64, 0](1422), float64(12), int64(1), object(12)\n",
      "memory usage: 250.0+ MB\n",
      "None\n"
     ]
    }
   ],
   "source": [
    "print(df.info())"
   ]
  },
  {
   "cell_type": "code",
   "execution_count": 13,
   "metadata": {},
   "outputs": [
    {
     "name": "stdout",
     "output_type": "stream",
     "text": [
      "                                                  acct_id  extenders  \\\n",
      "0       00000950dea4a869e9fe70d823444d418c5abebbd8e830...          0   \n",
      "1       00002ec815678c6b9837ad4c9db82ac7fe5fb6af5dc229...          1   \n",
      "2       000050825287b713415614a237757da4cd7517365cbce2...          1   \n",
      "3       000060be4aa292815abc44ab6fe96015b89e83b21c8a63...          0   \n",
      "4       00008c39885815e42a0bb750cee199cd4da741a5645705...          1   \n",
      "...                                                   ...        ...   \n",
      "789684  ffffcdb556e20f0bb172fd491886aceb9d01f963f80bd8...          0   \n",
      "789685  ffffce839f7797215ce12aaf953e511b39f10b41f988f8...          1   \n",
      "789686  ffffd57bcfde4896e5eb5bf6509a01284312777893c0bc...          0   \n",
      "789687  ffffd68d1c03300303527bd26151f47e2ffbc637ba1e6e...          0   \n",
      "789688  ffffe0b3d21258c06d013a20ec8d4c167f340087856583...          0   \n",
      "\n",
      "        wireless_clients_count  wired_clients_count  rx_avg_bps  tx_avg_bps  \\\n",
      "0                    -1.092683            -0.638795    0.733374    0.727027   \n",
      "1                     0.119252             0.571160    0.022851    0.007073   \n",
      "2                    -0.365522            -0.336306   -0.120518   -0.108634   \n",
      "3                    -1.092683            -0.336306    0.317039    0.043950   \n",
      "4                     0.846414             0.873648    0.064186    0.067691   \n",
      "...                        ...                  ...         ...         ...   \n",
      "789684               -0.729103             0.873648   -0.144798    0.068443   \n",
      "789685                0.482833             0.873648   -0.111787   -0.014036   \n",
      "789686               -0.607909            -0.336306    0.696075    0.350287   \n",
      "789687               -0.486716            -0.638795    0.036474   -0.103493   \n",
      "789688                0.967607             0.268671   -0.121957   -0.091286   \n",
      "\n",
      "        rx_p95_bps  tx_p95_bps  rx_max_bps  tx_max_bps  ...  \\\n",
      "0         0.379332    0.546408    0.275476    0.313250  ...   \n",
      "1        -0.089625   -0.019940   -0.104446   -0.099524  ...   \n",
      "2        -0.061008   -0.108515   -0.109921   -0.162924  ...   \n",
      "3         0.041437    0.007452   -0.125892   -0.089858  ...   \n",
      "4        -0.029768    0.076104   -0.061619    0.051115  ...   \n",
      "...            ...         ...         ...         ...  ...   \n",
      "789684   -0.294635    0.047363   -0.198317   -0.060001  ...   \n",
      "789685   -0.234902   -0.024127   -0.148468   -0.081952  ...   \n",
      "789686    0.971515    0.261751    1.329852    0.115403  ...   \n",
      "789687    0.016823   -0.095521   -0.092888    0.001637  ...   \n",
      "789688   -0.173702   -0.092453   -0.170752   -0.139871  ...   \n",
      "\n",
      "        premium_tech_pro_True  premium_tech_pro_nan  identity_protection_True  \\\n",
      "0                           0                   1.0                         0   \n",
      "1                           0                   1.0                         0   \n",
      "2                           0                   1.0                         0   \n",
      "3                           0                   1.0                         0   \n",
      "4                           0                   1.0                         0   \n",
      "...                       ...                   ...                       ...   \n",
      "789684                      0                   1.0                         0   \n",
      "789685                      0                   1.0                         0   \n",
      "789686                      0                   1.0                         0   \n",
      "789687                      0                   1.0                         0   \n",
      "789688                      0                   1.0                         0   \n",
      "\n",
      "        identity_protection_nan family_identity_protection_True  \\\n",
      "0                           1.0                               0   \n",
      "1                           1.0                               0   \n",
      "2                           1.0                               0   \n",
      "3                           1.0                               0   \n",
      "4                           1.0                               0   \n",
      "...                         ...                             ...   \n",
      "789684                      1.0                               0   \n",
      "789685                      1.0                               0   \n",
      "789686                      1.0                               0   \n",
      "789687                      1.0                               0   \n",
      "789688                      1.0                               0   \n",
      "\n",
      "       family_identity_protection_nan total_shield_True total_shield_nan  \\\n",
      "0                                 1.0                 0              1.0   \n",
      "1                                 1.0                 0              1.0   \n",
      "2                                 1.0                 0              1.0   \n",
      "3                                 1.0                 0              1.0   \n",
      "4                                 1.0                 0              1.0   \n",
      "...                               ...               ...              ...   \n",
      "789684                            1.0                 0              1.0   \n",
      "789685                            1.0                 0              1.0   \n",
      "789686                            1.0                 0              1.0   \n",
      "789687                            1.0                 0              1.0   \n",
      "789688                            1.0                 0              1.0   \n",
      "\n",
      "       youtube_tv_True youtube_tv_nan  \n",
      "0                    0            1.0  \n",
      "1                    0            1.0  \n",
      "2                    0            1.0  \n",
      "3                    0            1.0  \n",
      "4                    0            1.0  \n",
      "...                ...            ...  \n",
      "789684               0            1.0  \n",
      "789685               0            1.0  \n",
      "789686               0            1.0  \n",
      "789687               0            1.0  \n",
      "789688               0            1.0  \n",
      "\n",
      "[789689 rows x 1447 columns]\n"
     ]
    }
   ],
   "source": [
    "print(df)"
   ]
  },
  {
   "cell_type": "code",
   "execution_count": 10,
   "metadata": {
    "id": "fuFSZiksVuWn"
   },
   "outputs": [],
   "source": [
    "df.to_csv('cleaned_data.csv', index=False)"
   ]
  }
 ],
 "metadata": {
  "accelerator": "GPU",
  "colab": {
   "gpuType": "T4",
   "provenance": []
  },
  "kernelspec": {
   "display_name": "Python 3 (ipykernel)",
   "language": "python",
   "name": "python3"
  },
  "language_info": {
   "codemirror_mode": {
    "name": "ipython",
    "version": 3
   },
   "file_extension": ".py",
   "mimetype": "text/x-python",
   "name": "python",
   "nbconvert_exporter": "python",
   "pygments_lexer": "ipython3",
   "version": "3.12.7"
  }
 },
 "nbformat": 4,
 "nbformat_minor": 4
}
